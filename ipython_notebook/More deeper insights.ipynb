{
 "cells": [
  {
   "cell_type": "markdown",
   "metadata": {},
   "source": [
    "## Compare grant abstract to publication abstract\n",
    "Term frequency-inverse document frequency (tf-idf) is a common method of assessing the importance of a word in a document corpus. It weights the frequency of a given term in an individual document with the inverse frequency of that term in the entire corpus. We first use tf-idf to transform both abstract then compare the cosine similarity of the two."
   ]
  },
  {
   "cell_type": "code",
   "execution_count": null,
   "metadata": {
    "collapsed": true
   },
   "outputs": [],
   "source": [
    "#import nltk, string\n",
    "from sklearn.feature_extraction.text import TfidfVectorizer\n",
    "from pandas import Series, DataFrame\n",
    "\n",
    "tfidf_vectorizer = TfidfVectorizer()\n",
    "def cosine_sim(text1, text2):\n",
    "    tfidf = tfidf_vectorizer.fit_transform([text1, text2])\n",
    "    return ((tfidf * tfidf.T).A)[0,1]\n",
    "\n",
    "list1=[]\n",
    "for i,j in dic1.items() :\n",
    "        cosine=cosine_sim(i, j)\n",
    "        list1.append(cosine)\n",
    "\n",
    "cosine_sim = DataFrame(list1) \n",
    "cosine_sim.head()\n",
    "\n",
    "join = pd.concat([col1_df, col2_df,col3_df,cosine_sim], axis=1)\n",
    "join.head()\n",
    "\n",
    "join.to_csv(\"cosine.csv\")\n",
    "print(\"done\")"
   ]
  },
  {
   "cell_type": "markdown",
   "metadata": {},
   "source": [
    "Let us look at what we get."
   ]
  },
  {
   "cell_type": "code",
   "execution_count": 3,
   "metadata": {},
   "outputs": [
    {
     "data": {
      "text/html": [
       "<div>\n",
       "<style>\n",
       "    .dataframe thead tr:only-child th {\n",
       "        text-align: right;\n",
       "    }\n",
       "\n",
       "    .dataframe thead th {\n",
       "        text-align: left;\n",
       "    }\n",
       "\n",
       "    .dataframe tbody tr th {\n",
       "        vertical-align: top;\n",
       "    }\n",
       "</style>\n",
       "<table border=\"1\" class=\"dataframe\">\n",
       "  <thead>\n",
       "    <tr style=\"text-align: right;\">\n",
       "      <th></th>\n",
       "      <th>PMID</th>\n",
       "      <th>0</th>\n",
       "    </tr>\n",
       "  </thead>\n",
       "  <tbody>\n",
       "    <tr>\n",
       "      <th>4</th>\n",
       "      <td>24121441</td>\n",
       "      <td>0.136550</td>\n",
       "    </tr>\n",
       "    <tr>\n",
       "      <th>44</th>\n",
       "      <td>27050561</td>\n",
       "      <td>0.150984</td>\n",
       "    </tr>\n",
       "    <tr>\n",
       "      <th>36</th>\n",
       "      <td>23681158</td>\n",
       "      <td>0.152784</td>\n",
       "    </tr>\n",
       "    <tr>\n",
       "      <th>5</th>\n",
       "      <td>24121441</td>\n",
       "      <td>0.161347</td>\n",
       "    </tr>\n",
       "    <tr>\n",
       "      <th>16</th>\n",
       "      <td>26526853</td>\n",
       "      <td>0.168242</td>\n",
       "    </tr>\n",
       "    <tr>\n",
       "      <th>46</th>\n",
       "      <td>27050561</td>\n",
       "      <td>0.175705</td>\n",
       "    </tr>\n",
       "    <tr>\n",
       "      <th>30</th>\n",
       "      <td>24643422</td>\n",
       "      <td>0.180092</td>\n",
       "    </tr>\n",
       "    <tr>\n",
       "      <th>32</th>\n",
       "      <td>23681158</td>\n",
       "      <td>0.193749</td>\n",
       "    </tr>\n",
       "    <tr>\n",
       "      <th>31</th>\n",
       "      <td>23681158</td>\n",
       "      <td>0.204514</td>\n",
       "    </tr>\n",
       "    <tr>\n",
       "      <th>37</th>\n",
       "      <td>23238908</td>\n",
       "      <td>0.221224</td>\n",
       "    </tr>\n",
       "  </tbody>\n",
       "</table>\n",
       "</div>"
      ],
      "text/plain": [
       "        PMID         0\n",
       "4   24121441  0.136550\n",
       "44  27050561  0.150984\n",
       "36  23681158  0.152784\n",
       "5   24121441  0.161347\n",
       "16  26526853  0.168242\n",
       "46  27050561  0.175705\n",
       "30  24643422  0.180092\n",
       "32  23681158  0.193749\n",
       "31  23681158  0.204514\n",
       "37  23238908  0.221224"
      ]
     },
     "execution_count": 3,
     "metadata": {},
     "output_type": "execute_result"
    }
   ],
   "source": [
    "import numpy as np\n",
    "import pandas as pd\n",
    "from pandas import DataFrame\n",
    "cosine = pd.read_csv(\"Abs_cosine_similarity.csv\", encoding = \"ISO-8859-1\",\n",
    "                usecols=[\"PMID\",\"0\"])\n",
    "cosine.sort_values([\"0\"],ascending=[True], inplace=True)\n",
    "cosine.head(10)"
   ]
  },
  {
   "cell_type": "code",
   "execution_count": 4,
   "metadata": {
    "collapsed": true
   },
   "outputs": [],
   "source": [
    "cosine.reset_index(level=0, inplace=True)\n",
    "cosine.reset_index(level=0, inplace=True)"
   ]
  },
  {
   "cell_type": "code",
   "execution_count": 6,
   "metadata": {},
   "outputs": [
    {
     "data": {
      "image/png": "[encoded data removed]",
      "text/plain": [
       "<matplotlib.figure.Figure at 0x116c025c0>"
      ]
     },
     "metadata": {},
     "output_type": "display_data"
    }
   ],
   "source": [
    "import matplotlib.pyplot as plt\n",
    "%matplotlib inline\n",
    "\n",
    "fig, ax1 = plt.subplots(figsize=(12,9))\n",
    "ax1 = plt.subplot()\n",
    "ax1.scatter(x = cosine['level_0'],\n",
    "            y = cosine['0'],\n",
    "            alpha = 0.8)\n",
    "\n",
    "plt.title('Cosine similarty')\n",
    "plt.ylim([0,1])\n",
    "plt.xlabel('PMID')\n",
    "plt.ylabel('cosine similarity')\n",
    "plt.savefig(\"cosine_plot.png\")\n",
    "plt.show()"
   ]
  },
  {
   "cell_type": "code",
   "execution_count": null,
   "metadata": {
    "collapsed": true
   },
   "outputs": [],
   "source": [
    "ax1 = plt.subplot()\n",
    "ax1.scatter(x = test['TOTAL_COST'],\n",
    "            y = test['average'],\n",
    "            s = test['PMID'],\n",
    "            alpha = 0.3,\n",
    "            c = color)"
   ]
  },
  {
   "cell_type": "markdown",
   "metadata": {},
   "source": [
    "Look at the lowest ranking abstracts:"
   ]
  },
  {
   "cell_type": "code",
   "execution_count": 85,
   "metadata": {},
   "outputs": [
    {
     "data": {
      "text/html": [
       "<div>\n",
       "<style>\n",
       "    .dataframe thead tr:only-child th {\n",
       "        text-align: right;\n",
       "    }\n",
       "\n",
       "    .dataframe thead th {\n",
       "        text-align: left;\n",
       "    }\n",
       "\n",
       "    .dataframe tbody tr th {\n",
       "        vertical-align: top;\n",
       "    }\n",
       "</style>\n",
       "<table border=\"1\" class=\"dataframe\">\n",
       "  <thead>\n",
       "    <tr style=\"text-align: right;\">\n",
       "      <th></th>\n",
       "      <th>Unnamed: 0</th>\n",
       "      <th>PMAbs</th>\n",
       "      <th>GRAbs</th>\n",
       "      <th>PMID</th>\n",
       "      <th>0</th>\n",
       "    </tr>\n",
       "  </thead>\n",
       "  <tbody>\n",
       "    <tr>\n",
       "      <th>4</th>\n",
       "      <td>4</td>\n",
       "      <td>HIV-1 replication can be inhibited by type I i...</td>\n",
       "      <td>DESCRIPTION (provided by applicant): HIV-1, th...</td>\n",
       "      <td>24121441</td>\n",
       "      <td>0.136550</td>\n",
       "    </tr>\n",
       "    <tr>\n",
       "      <th>44</th>\n",
       "      <td>44</td>\n",
       "      <td>KwaZulu-Natal (KZN) has the highest burden of ...</td>\n",
       "      <td>Response to public health threats occurs on di...</td>\n",
       "      <td>27050561</td>\n",
       "      <td>0.150984</td>\n",
       "    </tr>\n",
       "    <tr>\n",
       "      <th>36</th>\n",
       "      <td>36</td>\n",
       "      <td>Women are increasingly prescribed selective se...</td>\n",
       "      <td>Core B is the Biostafistics and Data Managemen...</td>\n",
       "      <td>23681158</td>\n",
       "      <td>0.152784</td>\n",
       "    </tr>\n",
       "    <tr>\n",
       "      <th>5</th>\n",
       "      <td>5</td>\n",
       "      <td>HIV-1 replication can be inhibited by type I i...</td>\n",
       "      <td>DESCRIPTION (provided by applicant): HIV-1, th...</td>\n",
       "      <td>24121441</td>\n",
       "      <td>0.161347</td>\n",
       "    </tr>\n",
       "    <tr>\n",
       "      <th>16</th>\n",
       "      <td>16</td>\n",
       "      <td>Understanding the mechanism by which ligands a...</td>\n",
       "      <td>Production of large quantities of hiighly puri...</td>\n",
       "      <td>26526853</td>\n",
       "      <td>0.168242</td>\n",
       "    </tr>\n",
       "  </tbody>\n",
       "</table>\n",
       "</div>"
      ],
      "text/plain": [
       "    Unnamed: 0                                              PMAbs  \\\n",
       "4            4  HIV-1 replication can be inhibited by type I i...   \n",
       "44          44  KwaZulu-Natal (KZN) has the highest burden of ...   \n",
       "36          36  Women are increasingly prescribed selective se...   \n",
       "5            5  HIV-1 replication can be inhibited by type I i...   \n",
       "16          16  Understanding the mechanism by which ligands a...   \n",
       "\n",
       "                                                GRAbs      PMID         0  \n",
       "4   DESCRIPTION (provided by applicant): HIV-1, th...  24121441  0.136550  \n",
       "44  Response to public health threats occurs on di...  27050561  0.150984  \n",
       "36  Core B is the Biostafistics and Data Managemen...  23681158  0.152784  \n",
       "5   DESCRIPTION (provided by applicant): HIV-1, th...  24121441  0.161347  \n",
       "16  Production of large quantities of hiighly puri...  26526853  0.168242  "
      ]
     },
     "execution_count": 85,
     "metadata": {},
     "output_type": "execute_result"
    }
   ],
   "source": [
    "abstract = pd.read_csv(\"Abs_cosine_similarity.csv\", encoding = \"ISO-8859-1\")\n",
    "abs_sort = abstract.sort_values(by=\"0\",ascending=[True],axis=0,inplace=False)\n",
    "abs_sort.head()"
   ]
  },
  {
   "cell_type": "code",
   "execution_count": 105,
   "metadata": {},
   "outputs": [
    {
     "data": {
      "text/html": [
       "<div>\n",
       "<style>\n",
       "    .dataframe thead tr:only-child th {\n",
       "        text-align: right;\n",
       "    }\n",
       "\n",
       "    .dataframe thead th {\n",
       "        text-align: left;\n",
       "    }\n",
       "\n",
       "    .dataframe tbody tr th {\n",
       "        vertical-align: top;\n",
       "    }\n",
       "</style>\n",
       "<table border=\"1\" class=\"dataframe\">\n",
       "  <thead>\n",
       "    <tr style=\"text-align: right;\">\n",
       "      <th></th>\n",
       "      <th>Unnamed: 0</th>\n",
       "      <th>PMAbs</th>\n",
       "      <th>GRAbs</th>\n",
       "      <th>PMID</th>\n",
       "      <th>0</th>\n",
       "    </tr>\n",
       "  </thead>\n",
       "  <tbody>\n",
       "    <tr>\n",
       "      <th>36</th>\n",
       "      <td>36</td>\n",
       "      <td>Women are increasingly prescribed selective se...</td>\n",
       "      <td>Core B is the Biostafistics and Data Managemen...</td>\n",
       "      <td>23681158</td>\n",
       "      <td>0.152784</td>\n",
       "    </tr>\n",
       "    <tr>\n",
       "      <th>32</th>\n",
       "      <td>32</td>\n",
       "      <td>Women are increasingly prescribed selective se...</td>\n",
       "      <td>Project II focuses on the menopause as a criti...</td>\n",
       "      <td>23681158</td>\n",
       "      <td>0.193749</td>\n",
       "    </tr>\n",
       "    <tr>\n",
       "      <th>31</th>\n",
       "      <td>31</td>\n",
       "      <td>Women are increasingly prescribed selective se...</td>\n",
       "      <td>DESCRIPTION (provided by applicant): It is wel...</td>\n",
       "      <td>23681158</td>\n",
       "      <td>0.204514</td>\n",
       "    </tr>\n",
       "    <tr>\n",
       "      <th>33</th>\n",
       "      <td>33</td>\n",
       "      <td>Women are increasingly prescribed selective se...</td>\n",
       "      <td>Pregnancy is a unique period in a woman's emot...</td>\n",
       "      <td>23681158</td>\n",
       "      <td>0.414739</td>\n",
       "    </tr>\n",
       "    <tr>\n",
       "      <th>34</th>\n",
       "      <td>34</td>\n",
       "      <td>Women are increasingly prescribed selective se...</td>\n",
       "      <td>Core A will serve as both the Administrative a...</td>\n",
       "      <td>23681158</td>\n",
       "      <td>0.472121</td>\n",
       "    </tr>\n",
       "    <tr>\n",
       "      <th>35</th>\n",
       "      <td>35</td>\n",
       "      <td>Women are increasingly prescribed selective se...</td>\n",
       "      <td>It has been well established that early life a...</td>\n",
       "      <td>23681158</td>\n",
       "      <td>0.479034</td>\n",
       "    </tr>\n",
       "  </tbody>\n",
       "</table>\n",
       "</div>"
      ],
      "text/plain": [
       "    Unnamed: 0                                              PMAbs  \\\n",
       "36          36  Women are increasingly prescribed selective se...   \n",
       "32          32  Women are increasingly prescribed selective se...   \n",
       "31          31  Women are increasingly prescribed selective se...   \n",
       "33          33  Women are increasingly prescribed selective se...   \n",
       "34          34  Women are increasingly prescribed selective se...   \n",
       "35          35  Women are increasingly prescribed selective se...   \n",
       "\n",
       "                                                GRAbs      PMID         0  \n",
       "36  Core B is the Biostafistics and Data Managemen...  23681158  0.152784  \n",
       "32  Project II focuses on the menopause as a criti...  23681158  0.193749  \n",
       "31  DESCRIPTION (provided by applicant): It is wel...  23681158  0.204514  \n",
       "33  Pregnancy is a unique period in a woman's emot...  23681158  0.414739  \n",
       "34  Core A will serve as both the Administrative a...  23681158  0.472121  \n",
       "35  It has been well established that early life a...  23681158  0.479034  "
      ]
     },
     "execution_count": 105,
     "metadata": {},
     "output_type": "execute_result"
    }
   ],
   "source": [
    "select = abs_sort[(abs_sort.PMID==23681158)]\n",
    "select"
   ]
  },
  {
   "cell_type": "code",
   "execution_count": 111,
   "metadata": {},
   "outputs": [
    {
     "data": {
      "text/plain": [
       "'Women are increasingly prescribed selective serotonin reuptake inhibitors (SSRIs) during pregnancy, with potential implications for neurodevelopment. Whether prenatal SSRI exposure has an effect on neurodevelopment and behavior in the offspring is an important area of investigation.'"
      ]
     },
     "execution_count": 111,
     "metadata": {},
     "output_type": "execute_result"
    }
   ],
   "source": [
    "list(select[\"PMAbs\"])[0]"
   ]
  },
  {
   "cell_type": "code",
   "execution_count": 109,
   "metadata": {},
   "outputs": [
    {
     "data": {
      "text/plain": [
       "'Core B is the Biostafistics and Data Management Core which is responsible for developing and maintaining  a relational database of demographic, clinical, genetic, biomarker, and other data gathered by SCOR  projects described in the application to examine the impact of early life adversity on the development of  stress dysregulation. This core provides database, compufing, and biostatistical direction and analysis  support to the research pursued in Projects l-lll. Lastly, Core B will employ and extend existing  methodologies for the analysis of the SCOR project data.'"
      ]
     },
     "execution_count": 109,
     "metadata": {},
     "output_type": "execute_result"
    }
   ],
   "source": [
    "list(select[\"GRAbs\"])[0]"
   ]
  },
  {
   "cell_type": "code",
   "execution_count": 114,
   "metadata": {},
   "outputs": [
    {
     "data": {
      "text/plain": [
       "'It has been well established that early life adversity exposure (prior to puberty) is one of the strongest  predictors of adult affective disorders such depression, anxiety, PTSD, and bipolar disorder, especially in  women. The most common underlying feature in affective disorders is that of stress dysregulation. The goal  of this proposal is to determine how the prepubertal adversity experience reprograms the brain toward stress  dysregulation, or stress resilience, and how this is influenced during dynamic hormonal changes across the  female life span, including pregnancy and aging. We are proposing to examine similar outcome measures  proposed in the human subject studies in Projects I & II in a mouse model. The mouse model allows greater  control over manipulations in the environment and dissection of potential mechanisms involved in  programming of endpoints than what is possible in humans, and thus is an invaluable model for this SCOR  proposal. Aims for these studies include: 1) To examine the programming effects of prepubertal adversity on  adult stress responsivity during the period of dynamic hormonal change, pregnancy, in a mouse model.  Behavioral and physiological analyses during this period will include assessment of the HPA stress axis, and  anxiety-like behaviors as well as stress responsivity in both male and female offspring; 2) To examine the  programming effects of prepubertal adversity on adult stress responsivity during the period of dynamic  hormonal change, aging, in a mouse model. Sex differences in behavioral and physiological analyses in  aged mice will include assessment of the HPA stress axis, cognitive flexibility and performance, and anxiety-  like behaviors; and 3) To examine the potential molecular mechanisms by which prepubertal adversity may  program changes in stress pathway maturation and thus altering long-term adult stress responses during  dynamic hormonal periods, including examination of the sex-specific brain miRNA environment and  epigenetic histone marks in relevant brain regions during the prepubertal window.'"
      ]
     },
     "execution_count": 114,
     "metadata": {},
     "output_type": "execute_result"
    }
   ],
   "source": [
    "list(select[\"GRAbs\"])[5]"
   ]
  },
  {
   "cell_type": "code",
   "execution_count": null,
   "metadata": {
    "collapsed": true
   },
   "outputs": [],
   "source": []
  }
 ],
 "metadata": {
  "kernelspec": {
   "display_name": "Python 3",
   "language": "python",
   "name": "python3"
  },
  "language_info": {
   "codemirror_mode": {
    "name": "ipython",
    "version": 3
   },
   "file_extension": ".py",
   "mimetype": "text/x-python",
   "name": "python",
   "nbconvert_exporter": "python",
   "pygments_lexer": "ipython3",
   "version": "3.6.2"
  }
 },
 "nbformat": 4,
 "nbformat_minor": 2
}
