{
 "cells": [
  {
   "cell_type": "markdown",
   "metadata": {},
   "source": [
    "## Mapping Grants to Publications\n",
    "Use Biopython package Entrez to fetch publication info using GrantID\n"
   ]
  },
  {
   "cell_type": "markdown",
   "metadata": {},
   "source": [
    "### Define functions used to fetch publication ID (PMID) using Grant ID (GRID). \n",
    "First extract GrantID list from NIH grant csv files, then search pubmed to get PMID using GRID list. At last, return csv file contain both GRID and PMID lists."
   ]
  },
  {
   "cell_type": "code",
   "execution_count": null,
   "metadata": {
    "collapsed": true
   },
   "outputs": [],
   "source": [
    "import numpy as np\n",
    "import pandas as pd\n",
    "from pandas import DataFrame\n",
    "from Bio import Entrez\n",
    "\n",
    "def GRID_to_PMID(GRID):\n",
    "    '''use GRID to search PMID, return dict(PMID:GRID)'''\n",
    "    Entrez.email = 'yier.jin@gmail.com'\n",
    "    handle = Entrez.esearch(db=\"pubmed\", term=GRID)\n",
    "    record = Entrez.read(handle)\n",
    "    handle.close()\n",
    "    IdList = record[\"IdList\"]\n",
    "    GRID = str(GRID)\n",
    "    dic = {}\n",
    "    for i in IdList:\n",
    "        dic[i] = GRID\n",
    "    return (dic)\n",
    "\n",
    "def GRID_list_to_PMID(GRID_list):\n",
    "    \"\"\"used a GRID list to search PMID, return dict(PMID:GRID)\"\"\"\n",
    "    dic = {}\n",
    "    for i in GRID_list:\n",
    "        dic_i = GRID_to_PMID(i)\n",
    "        dic.update(dic_i)\n",
    "    return (dic)\n",
    "\n",
    "def Extract_GRID_list (NIH_file):\n",
    "    \"\"\"Extract GRID list from NIH summary csv files, return a GRID list\"\"\" \n",
    "    df = pd.read_csv(NIH_file, encoding = \"ISO-8859-1\")\n",
    "    GRID = df.iloc[:,0].dropna()\n",
    "    GRID_list = GRID.tolist()\n",
    "    return(GRID_list)\n",
    "\n",
    "def NIH_GRID_to_PMID(GRID_list):\n",
    "    \"\"\"use estracted GRID, call \"GRID_list_to_PMID\" func to return PMID list,\n",
    "       write into csv file.\"\"\"\n",
    "    GR_Dic = GRID_list_to_PMID(GRID_list)\n",
    "    df = DataFrame()\n",
    "    df[\"PMID\"] = GR_Dic.keys()\n",
    "    df[\"GRID\"] = GR_Dic.values()\n",
    "    print(df.head())\n",
    "    df.to_csv(\"GrantID.to_PMID.txt\")"
   ]
  },
  {
   "cell_type": "markdown",
   "metadata": {},
   "source": [
    "Call above functions to generate complete GRID and PMID list csv table. To speed up the search process,\n",
    "NIH grant csv input files are splited and searched in paralle (code not included here). "
   ]
  },
  {
   "cell_type": "code",
   "execution_count": null,
   "metadata": {
    "collapsed": true
   },
   "outputs": [],
   "source": [
    "NIH_file = \"FY_2010_split1.txt\"\n",
    "GRID_list = Extract_GRID_list(NIH_file)\n",
    "NIH_GRID_to_PMID(GRID_list)"
   ]
  },
  {
   "cell_type": "markdown",
   "metadata": {},
   "source": [
    "### Get more publication information \n",
    "Define functions to search publication information using PMID, return PubDate, PubTypeList, FullJournalName and Abstract."
   ]
  },
  {
   "cell_type": "code",
   "execution_count": null,
   "metadata": {
    "collapsed": true
   },
   "outputs": [],
   "source": [
    "def PMID_to_summary (PMID):\n",
    "    \"\"\"use PMID to search paper summary\"\"\"\n",
    "    handle = Entrez.esummary(db=\"pubmed\", id=PMID)\n",
    "    record = Entrez.read(handle)\n",
    "    handle.close()\n",
    "    dic = {}\n",
    "    Id = record[0][\"Id\"]\n",
    "    PubDate = record[0][\"PubDate\"]\n",
    "    PubTypeList = record[0][\"PubTypeList\"]\n",
    "    FullJournalName = record[0][\"FullJournalName\"]\n",
    "    dic[Id] = [PubDate, PubTypeList, FullJournalName]\n",
    "    return dic\n",
    "\n",
    "def PMID_list_to_summary (PMID_list):\n",
    "    \"\"\"use PMID list to search paper abstract\"\"\"\n",
    "    dic = {}\n",
    "    for i in PMID_list:\n",
    "        dic_i = PMID_to_summary(i)\n",
    "        dic.update(dic_i)\n",
    "    return (dic)"
   ]
  },
  {
   "cell_type": "markdown",
   "metadata": {},
   "source": [
    "### Merged table containing the Grant information as well as the publication information\n",
    "Use PMID, GRID to generate a single table containing information of grants and publications.\n",
    "Only selected colmns are shown."
   ]
  },
  {
   "cell_type": "code",
   "execution_count": 22,
   "metadata": {},
   "outputs": [
    {
     "data": {
      "text/html": [
       "<div>\n",
       "<style>\n",
       "    .dataframe thead tr:only-child th {\n",
       "        text-align: right;\n",
       "    }\n",
       "\n",
       "    .dataframe thead th {\n",
       "        text-align: left;\n",
       "    }\n",
       "\n",
       "    .dataframe tbody tr th {\n",
       "        vertical-align: top;\n",
       "    }\n",
       "</style>\n",
       "<table border=\"1\" class=\"dataframe\">\n",
       "  <thead>\n",
       "    <tr style=\"text-align: right;\">\n",
       "      <th></th>\n",
       "      <th>ADMINISTERING_IC</th>\n",
       "      <th>APPLICATION_TYPE</th>\n",
       "      <th>BUDGET_START</th>\n",
       "      <th>BUDGET_END</th>\n",
       "      <th>CORE_PROJECT_NUM</th>\n",
       "      <th>FY</th>\n",
       "      <th>SUPPORT_YEAR</th>\n",
       "      <th>TOTAL_COST</th>\n",
       "      <th>PMID</th>\n",
       "      <th>PubDate</th>\n",
       "      <th>PubTypeList</th>\n",
       "      <th>FullJournalName</th>\n",
       "      <th>GRID</th>\n",
       "    </tr>\n",
       "  </thead>\n",
       "  <tbody>\n",
       "    <tr>\n",
       "      <th>0</th>\n",
       "      <td>DK</td>\n",
       "      <td>1</td>\n",
       "      <td>5/1/10</td>\n",
       "      <td>4/30/11</td>\n",
       "      <td>F32DK085835</td>\n",
       "      <td>2010</td>\n",
       "      <td>1</td>\n",
       "      <td>52106.0</td>\n",
       "      <td>22335236</td>\n",
       "      <td>2012 Mar 2</td>\n",
       "      <td>['Journal Article']</td>\n",
       "      <td>Journal of proteome research</td>\n",
       "      <td>F32DK085835</td>\n",
       "    </tr>\n",
       "    <tr>\n",
       "      <th>1</th>\n",
       "      <td>DK</td>\n",
       "      <td>1</td>\n",
       "      <td>5/1/10</td>\n",
       "      <td>4/30/11</td>\n",
       "      <td>F32DK085835</td>\n",
       "      <td>2010</td>\n",
       "      <td>1</td>\n",
       "      <td>52106.0</td>\n",
       "      <td>21838295</td>\n",
       "      <td>2011 Oct 7</td>\n",
       "      <td>['Journal Article']</td>\n",
       "      <td>Journal of proteome research</td>\n",
       "      <td>F32DK085835</td>\n",
       "    </tr>\n",
       "    <tr>\n",
       "      <th>2</th>\n",
       "      <td>DK</td>\n",
       "      <td>1</td>\n",
       "      <td>6/15/10</td>\n",
       "      <td>6/14/11</td>\n",
       "      <td>F32DK085905</td>\n",
       "      <td>2010</td>\n",
       "      <td>1</td>\n",
       "      <td>50474.0</td>\n",
       "      <td>21690215</td>\n",
       "      <td>2011 Jul 1</td>\n",
       "      <td>['Journal Article', 'Review']</td>\n",
       "      <td>Cold Spring Harbor perspectives in biology</td>\n",
       "      <td>F32DK085905</td>\n",
       "    </tr>\n",
       "    <tr>\n",
       "      <th>3</th>\n",
       "      <td>DK</td>\n",
       "      <td>1</td>\n",
       "      <td>3/2/10</td>\n",
       "      <td>3/1/11</td>\n",
       "      <td>F32DK085935</td>\n",
       "      <td>2010</td>\n",
       "      <td>1</td>\n",
       "      <td>47606.0</td>\n",
       "      <td>23334396</td>\n",
       "      <td>2013 Feb</td>\n",
       "      <td>['Journal Article']</td>\n",
       "      <td>Journal of the American Society of Nephrology ...</td>\n",
       "      <td>F32DK085935</td>\n",
       "    </tr>\n",
       "    <tr>\n",
       "      <th>4</th>\n",
       "      <td>DK</td>\n",
       "      <td>1</td>\n",
       "      <td>3/2/10</td>\n",
       "      <td>3/1/11</td>\n",
       "      <td>F32DK085935</td>\n",
       "      <td>2010</td>\n",
       "      <td>1</td>\n",
       "      <td>47606.0</td>\n",
       "      <td>22682975</td>\n",
       "      <td>2013 Aug</td>\n",
       "      <td>['Journal Article']</td>\n",
       "      <td>Nutrition, metabolism, and cardiovascular dise...</td>\n",
       "      <td>F32DK085935</td>\n",
       "    </tr>\n",
       "    <tr>\n",
       "      <th>5</th>\n",
       "      <td>DK</td>\n",
       "      <td>1</td>\n",
       "      <td>3/2/10</td>\n",
       "      <td>3/1/11</td>\n",
       "      <td>F32DK085935</td>\n",
       "      <td>2010</td>\n",
       "      <td>1</td>\n",
       "      <td>47606.0</td>\n",
       "      <td>21693678</td>\n",
       "      <td>2011 Aug</td>\n",
       "      <td>['Journal Article']</td>\n",
       "      <td>Endocrinology</td>\n",
       "      <td>F32DK085935</td>\n",
       "    </tr>\n",
       "  </tbody>\n",
       "</table>\n",
       "</div>"
      ],
      "text/plain": [
       "  ADMINISTERING_IC  APPLICATION_TYPE BUDGET_START BUDGET_END CORE_PROJECT_NUM  \\\n",
       "0               DK                 1       5/1/10    4/30/11      F32DK085835   \n",
       "1               DK                 1       5/1/10    4/30/11      F32DK085835   \n",
       "2               DK                 1      6/15/10    6/14/11      F32DK085905   \n",
       "3               DK                 1       3/2/10     3/1/11      F32DK085935   \n",
       "4               DK                 1       3/2/10     3/1/11      F32DK085935   \n",
       "5               DK                 1       3/2/10     3/1/11      F32DK085935   \n",
       "\n",
       "     FY  SUPPORT_YEAR  TOTAL_COST      PMID     PubDate  \\\n",
       "0  2010             1     52106.0  22335236  2012 Mar 2   \n",
       "1  2010             1     52106.0  21838295  2011 Oct 7   \n",
       "2  2010             1     50474.0  21690215  2011 Jul 1   \n",
       "3  2010             1     47606.0  23334396    2013 Feb   \n",
       "4  2010             1     47606.0  22682975    2013 Aug   \n",
       "5  2010             1     47606.0  21693678    2011 Aug   \n",
       "\n",
       "                     PubTypeList  \\\n",
       "0            ['Journal Article']   \n",
       "1            ['Journal Article']   \n",
       "2  ['Journal Article', 'Review']   \n",
       "3            ['Journal Article']   \n",
       "4            ['Journal Article']   \n",
       "5            ['Journal Article']   \n",
       "\n",
       "                                     FullJournalName         GRID  \n",
       "0                       Journal of proteome research  F32DK085835  \n",
       "1                       Journal of proteome research  F32DK085835  \n",
       "2         Cold Spring Harbor perspectives in biology  F32DK085905  \n",
       "3  Journal of the American Society of Nephrology ...  F32DK085935  \n",
       "4  Nutrition, metabolism, and cardiovascular dise...  F32DK085935  \n",
       "5                                      Endocrinology  F32DK085935  "
      ]
     },
     "execution_count": 22,
     "metadata": {},
     "output_type": "execute_result"
    }
   ],
   "source": [
    "import pandas as pd\n",
    "file = \"FY2010_merge_all.csv\"\n",
    "FY2010 = pd.read_csv(file)\n",
    "FY2010 = FY2010.drop(\"Unnamed: 0\", axis=1)\n",
    "FY2010.head(6)"
   ]
  },
  {
   "cell_type": "markdown",
   "metadata": {},
   "source": [
    " ### Generate Table containing the Grant Abstract and the Pblication Abstract\n",
    "To comapre the abstract from grants and its related publications, publication abstracts are fetched from Pubmed \n",
    "and tables containing both information are gerated. NIH provie the table with application ID and the grant abstract,\n",
    "we need the application ID (AppID) to be able to match publication abstract to the grant abstract."
   ]
  },
  {
   "cell_type": "code",
   "execution_count": 23,
   "metadata": {},
   "outputs": [
    {
     "data": {
      "text/html": [
       "<div>\n",
       "<style>\n",
       "    .dataframe thead tr:only-child th {\n",
       "        text-align: right;\n",
       "    }\n",
       "\n",
       "    .dataframe thead th {\n",
       "        text-align: left;\n",
       "    }\n",
       "\n",
       "    .dataframe tbody tr th {\n",
       "        vertical-align: top;\n",
       "    }\n",
       "</style>\n",
       "<table border=\"1\" class=\"dataframe\">\n",
       "  <thead>\n",
       "    <tr style=\"text-align: right;\">\n",
       "      <th></th>\n",
       "      <th>PMAbs</th>\n",
       "      <th>PMID</th>\n",
       "      <th>GRID</th>\n",
       "      <th>AppID</th>\n",
       "      <th>GRAbs</th>\n",
       "    </tr>\n",
       "  </thead>\n",
       "  <tbody>\n",
       "    <tr>\n",
       "      <th>0</th>\n",
       "      <td>Exercise training is the cornerstone in the pr...</td>\n",
       "      <td>26341655</td>\n",
       "      <td>R01HL113738</td>\n",
       "      <td>8997115</td>\n",
       "      <td>DESCRIPTION (provided by applicant): Hypertens...</td>\n",
       "    </tr>\n",
       "    <tr>\n",
       "      <th>1</th>\n",
       "      <td>To determine usefulness and versatility of hyd...</td>\n",
       "      <td>26049382</td>\n",
       "      <td>R01HL113738</td>\n",
       "      <td>8997115</td>\n",
       "      <td>DESCRIPTION (provided by applicant): Hypertens...</td>\n",
       "    </tr>\n",
       "    <tr>\n",
       "      <th>2</th>\n",
       "      <td>The host protein CPSF6 possesses a domain that...</td>\n",
       "      <td>24415937</td>\n",
       "      <td>R01AI076121</td>\n",
       "      <td>9017905</td>\n",
       "      <td>DESCRIPTION (provided by applicant): HIV-1 inf...</td>\n",
       "    </tr>\n",
       "    <tr>\n",
       "      <th>3</th>\n",
       "      <td>The host protein CPSF6 possesses a domain that...</td>\n",
       "      <td>24415937</td>\n",
       "      <td>R01AI076121</td>\n",
       "      <td>9252791</td>\n",
       "      <td>DESCRIPTION (provided by applicant): HIV-1 inf...</td>\n",
       "    </tr>\n",
       "    <tr>\n",
       "      <th>4</th>\n",
       "      <td>HIV-1 replication can be inhibited by type I i...</td>\n",
       "      <td>24121441</td>\n",
       "      <td>R01AI078788</td>\n",
       "      <td>9087138</td>\n",
       "      <td>DESCRIPTION (provided by applicant): HIV-1, th...</td>\n",
       "    </tr>\n",
       "    <tr>\n",
       "      <th>5</th>\n",
       "      <td>HIV-1 replication can be inhibited by type I i...</td>\n",
       "      <td>24121441</td>\n",
       "      <td>R01AI078788</td>\n",
       "      <td>9383261</td>\n",
       "      <td>DESCRIPTION (provided by applicant): HIV-1, th...</td>\n",
       "    </tr>\n",
       "  </tbody>\n",
       "</table>\n",
       "</div>"
      ],
      "text/plain": [
       "                                               PMAbs      PMID         GRID  \\\n",
       "0  Exercise training is the cornerstone in the pr...  26341655  R01HL113738   \n",
       "1  To determine usefulness and versatility of hyd...  26049382  R01HL113738   \n",
       "2  The host protein CPSF6 possesses a domain that...  24415937  R01AI076121   \n",
       "3  The host protein CPSF6 possesses a domain that...  24415937  R01AI076121   \n",
       "4  HIV-1 replication can be inhibited by type I i...  24121441  R01AI078788   \n",
       "5  HIV-1 replication can be inhibited by type I i...  24121441  R01AI078788   \n",
       "\n",
       "     AppID                                              GRAbs  \n",
       "0  8997115  DESCRIPTION (provided by applicant): Hypertens...  \n",
       "1  8997115  DESCRIPTION (provided by applicant): Hypertens...  \n",
       "2  9017905  DESCRIPTION (provided by applicant): HIV-1 inf...  \n",
       "3  9252791  DESCRIPTION (provided by applicant): HIV-1 inf...  \n",
       "4  9087138  DESCRIPTION (provided by applicant): HIV-1, th...  \n",
       "5  9383261  DESCRIPTION (provided by applicant): HIV-1, th...  "
      ]
     },
     "execution_count": 23,
     "metadata": {},
     "output_type": "execute_result"
    }
   ],
   "source": [
    "file = \"Abstract.csv\"\n",
    "FY2010 = pd.read_csv(file)\n",
    "FY2010 = FY2010.drop(\"Unnamed: 0\", axis=1)\n",
    "FY2010.head(6)"
   ]
  },
  {
   "cell_type": "markdown",
   "metadata": {},
   "source": [
    "Here is an example of the full abstract of grant R01HL113738 and its publication 26341655:"
   ]
  },
  {
   "cell_type": "code",
   "execution_count": 25,
   "metadata": {},
   "outputs": [
    {
     "data": {
      "text/plain": [
       "'Exercise training is the cornerstone in the prevention and management of hypertension and atherosclerotic cardiovascular disease. However, blood pressure (BP) response to exercise is exaggerated in hypertension often to the range that raises the safety concern, which may prohibit patients from regular exercise. This augmented pressor response is shown to be related to excessive sympathetic stimulation caused by overactive muscle reflex. Exaggerated sympathetic-mediated vasoconstriction further contributes to the rise in BP during exercise in hypertension. Exercise training has been shown to reduce both exercise pressor reflex and attenuate the abnormal vasoconstriction. Hypertension also contributes to cognitive impairment, and exercise training has been shown to improve cognitive function through both BP-dependent and BP-independent pathways. Additional studies are still needed to determine if newer modes of exercise training such as high-intensity interval training may offer advantages over traditional continuous moderate training in improving BP and brain health in hypertensive patients.'"
      ]
     },
     "execution_count": 25,
     "metadata": {},
     "output_type": "execute_result"
    }
   ],
   "source": [
    "FY2010[\"PMAbs\"][0]"
   ]
  },
  {
   "cell_type": "code",
   "execution_count": 26,
   "metadata": {},
   "outputs": [
    {
     "data": {
      "text/plain": [
       "'DESCRIPTION (provided by applicant): Hypertensive patients are known to display exaggerated rise in blood pressure (BP) during exercise but the underlying mechanisms are poorly understood. Normally, exercise is accompanied by decreased parasympathetic activity and increased sympathetic activity caused by central command and activation of thin fiber muscle afferents that reflexively increase sympathetic outflow and BP. Traditionally, muscle afferents were dichotomized as metaboreceptors, which are activated slowly and only during intense or ischemic muscle contraction, or mechanoreceptors, which respond quickly to even mild deformation of their receptive fields. The increase in SNA and BP caused by activation of these receptors, known as exercise pressor reflex, is normally buffered by activation arterial baroreceptors, which are reset to operate at higher BP range but at the same level of sensitivity. Our recent work in spontaneously hypertensive rats (SHR) and patients with essential hypertension indicated an exaggerated rise in sympathetic nerve activity (SNA) and BP during muscle contraction even in the absence of congestive heart failure. Furthermore, the latency of the sympathetic response during exercise is much shorter than normal and the threshold level of exercise intensity required to increase muscle SNA is much lower than normal, implicating mechanoreceptor mediation. Mechanisms responsible for overactive exercise pressor reflex (EPR) in hypertension remain unknown but an increasing body of evidence suggested a role for aldosterone in regulating resting central sympathetic outflow in both hypertensive rats and humans. Furthermore, local aldosterone synthesis in the brain has been shown to contribute to sympathetic activation and hypertension in the SHRs and Dahl-salt sensitive rats despite normal circulating levels of aldosterone. Whether aldosterone contributes to excessive sympathoexcitation and BP elevation during exercise remains unknown. Our pilot data in hypertensive rats and humans with normal and elevated serum aldosterone levels demonstrated a major role of aldosterone on exercise pressor reflex via mechanoreflex sensitization. Therefore, we now propose parallel translational studies in hypertensive rats and patients with primary hypertension and secondary form of hypertension caused by adrenal overproduction of aldosterone (primary aldosteronism), using multiple interventions to directly activate muscle mechanoreceptors, metaboreceptors, or arterial baroreceptors during exercise and microelectrode recordings of SNA to measure the reflex response. The distinctive features of this proposal include: (1) the use of state-of- the-art techniques (microelectrode recordings of SNA) to directly test mechanistic hypotheses in conscious humans; (2) assessment of mechanoreflex using a new paradigm which is developed in our laboratory which evokes sustained elevation in SNA and BP than other methods previously described in humans; and (3) the use of complimentary approach to asses central vs. peripheral effects of aldosterone on neural control of circulation during muscle contraction in the hypertensive rats.'"
      ]
     },
     "execution_count": 26,
     "metadata": {},
     "output_type": "execute_result"
    }
   ],
   "source": [
    "FY2010[\"GRAbs\"][0]"
   ]
  },
  {
   "cell_type": "code",
   "execution_count": null,
   "metadata": {
    "collapsed": true
   },
   "outputs": [],
   "source": []
  }
 ],
 "metadata": {
  "kernelspec": {
   "display_name": "Python 3",
   "language": "python",
   "name": "python3"
  },
  "language_info": {
   "codemirror_mode": {
    "name": "ipython",
    "version": 3
   },
   "file_extension": ".py",
   "mimetype": "text/x-python",
   "name": "python",
   "nbconvert_exporter": "python",
   "pygments_lexer": "ipython3",
   "version": "3.6.2"
  }
 },
 "nbformat": 4,
 "nbformat_minor": 2
}
